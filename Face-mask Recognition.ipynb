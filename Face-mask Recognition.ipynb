{
 "cells": [
  {
   "cell_type": "code",
   "execution_count": 1,
   "id": "1d6ff824",
   "metadata": {},
   "outputs": [],
   "source": [
    "import numpy as np\n",
    "import pandas as pd\n",
    "%matplotlib inline\n",
    "import matplotlib as mpl\n",
    "import matplotlib.pyplot as plt\n",
    "import os"
   ]
  },
  {
   "cell_type": "code",
   "execution_count": 2,
   "id": "cf366f95",
   "metadata": {},
   "outputs": [],
   "source": [
    "import tensorflow as tf\n",
    "from tensorflow import keras"
   ]
  },
  {
   "cell_type": "code",
   "execution_count": 3,
   "id": "6ed9d2a3",
   "metadata": {},
   "outputs": [],
   "source": [
    "train_dir = r'C:\\Users\\rajan\\Downloads\\Final_Assignment_Face Mask Dataset\\Train'\n",
    "validation_dir = r'C:\\Users\\rajan\\Downloads\\Final_Assignment_Face Mask Dataset\\Validation'\n",
    "test_dir =r'C:\\Users\\rajan\\Downloads\\Final_Assignment_Face Mask Dataset\\Test'"
   ]
  },
  {
   "cell_type": "code",
   "execution_count": 4,
   "id": "d3e6f774",
   "metadata": {},
   "outputs": [],
   "source": [
    "from tensorflow.keras.preprocessing.image import ImageDataGenerator"
   ]
  },
  {
   "cell_type": "code",
   "execution_count": 5,
   "id": "2e5b05d4",
   "metadata": {},
   "outputs": [
    {
     "name": "stdout",
     "output_type": "stream",
     "text": [
      "Found 10000 images belonging to 2 classes.\n",
      "Found 800 images belonging to 2 classes.\n"
     ]
    }
   ],
   "source": [
    "train_datagen = ImageDataGenerator(rescale=1./255)\n",
    "test_datagen = ImageDataGenerator(rescale=1./255)\n",
    "\n",
    "train_generator = train_datagen.flow_from_directory(\n",
    "        train_dir,\n",
    "        target_size=(128, 128),\n",
    "        batch_size=20,\n",
    "        class_mode='binary')\n",
    "\n",
    "validation_generator = test_datagen.flow_from_directory(\n",
    "        validation_dir,\n",
    "        target_size=(128, 128),\n",
    "        batch_size=20,\n",
    "        class_mode='binary')"
   ]
  },
  {
   "cell_type": "code",
   "execution_count": 6,
   "id": "8a8cf8e3",
   "metadata": {},
   "outputs": [],
   "source": [
    "from tensorflow.keras import layers\n",
    "from tensorflow.keras import models"
   ]
  },
  {
   "cell_type": "code",
   "execution_count": 7,
   "id": "86be847a",
   "metadata": {},
   "outputs": [],
   "source": [
    "model = models.Sequential()\n",
    "\n",
    "model.add(layers.Conv2D(32, (3, 3), activation='relu',\n",
    "                        input_shape=(128, 128, 3)))\n",
    "model.add(layers.MaxPooling2D((2, 2)))\n",
    "\n",
    "model.add(layers.Conv2D(64, (3, 3), activation='relu'))\n",
    "model.add(layers.MaxPooling2D((2, 2)))\n",
    "\n",
    "model.add(layers.Conv2D(128, (3, 3), activation='relu'))\n",
    "model.add(layers.MaxPooling2D((2, 2)))\n",
    "\n",
    "model.add(layers.Conv2D(128, (3, 3), activation='relu'))\n",
    "model.add(layers.MaxPooling2D((2, 2)))\n",
    "\n",
    "model.add(layers.Flatten())\n",
    "\n",
    "model.add(layers.Dense(512, activation='relu'))\n",
    "\n",
    "model.add(layers.Dense(1, activation='sigmoid'))"
   ]
  },
  {
   "cell_type": "code",
   "execution_count": 8,
   "id": "5ca177ce",
   "metadata": {},
   "outputs": [
    {
     "name": "stderr",
     "output_type": "stream",
     "text": [
      "C:\\Users\\rajan\\Anaconda3\\lib\\site-packages\\keras\\optimizer_v2\\rmsprop.py:130: UserWarning: The `lr` argument is deprecated, use `learning_rate` instead.\n",
      "  super(RMSprop, self).__init__(name, **kwargs)\n"
     ]
    }
   ],
   "source": [
    "from tensorflow.keras import optimizers\n",
    "\n",
    "model.compile(loss='binary_crossentropy',\n",
    "              optimizer=optimizers.RMSprop(lr=1e-4),\n",
    "              metrics=['acc'])"
   ]
  },
  {
   "cell_type": "code",
   "execution_count": 9,
   "id": "70adc60d",
   "metadata": {},
   "outputs": [
    {
     "name": "stderr",
     "output_type": "stream",
     "text": [
      "<ipython-input-9-0f3e0e957b18>:1: UserWarning: `Model.fit_generator` is deprecated and will be removed in a future version. Please use `Model.fit`, which supports generators.\n",
      "  history = model.fit_generator(\n"
     ]
    },
    {
     "name": "stdout",
     "output_type": "stream",
     "text": [
      "Epoch 1/20\n",
      "500/500 [==============================] - 253s 504ms/step - loss: 0.1633 - acc: 0.9369 - val_loss: 0.0417 - val_acc: 0.9925\n",
      "Epoch 2/20\n",
      "500/500 [==============================] - 191s 381ms/step - loss: 0.0502 - acc: 0.9819 - val_loss: 0.0186 - val_acc: 0.9925\n",
      "Epoch 3/20\n",
      "500/500 [==============================] - 198s 395ms/step - loss: 0.0329 - acc: 0.9885 - val_loss: 0.0168 - val_acc: 0.9950\n",
      "Epoch 4/20\n",
      "500/500 [==============================] - 183s 366ms/step - loss: 0.0264 - acc: 0.9904 - val_loss: 0.0158 - val_acc: 0.9925\n",
      "Epoch 5/20\n",
      "500/500 [==============================] - 183s 366ms/step - loss: 0.0214 - acc: 0.9927 - val_loss: 0.0262 - val_acc: 0.9925\n",
      "Epoch 6/20\n",
      "500/500 [==============================] - 181s 362ms/step - loss: 0.0201 - acc: 0.9934 - val_loss: 0.0124 - val_acc: 0.9950\n",
      "Epoch 7/20\n",
      "500/500 [==============================] - 193s 386ms/step - loss: 0.0157 - acc: 0.9940 - val_loss: 0.0241 - val_acc: 0.9925\n",
      "Epoch 8/20\n",
      "500/500 [==============================] - 166s 332ms/step - loss: 0.0162 - acc: 0.9946 - val_loss: 0.0138 - val_acc: 0.9962\n",
      "Epoch 9/20\n",
      "500/500 [==============================] - 162s 324ms/step - loss: 0.0119 - acc: 0.9959 - val_loss: 0.0104 - val_acc: 0.9975\n",
      "Epoch 10/20\n",
      "500/500 [==============================] - 183s 366ms/step - loss: 0.0129 - acc: 0.9949 - val_loss: 0.0119 - val_acc: 0.9962\n",
      "Epoch 11/20\n",
      "500/500 [==============================] - 177s 355ms/step - loss: 0.0094 - acc: 0.9965 - val_loss: 0.0216 - val_acc: 0.9950\n",
      "Epoch 12/20\n",
      "500/500 [==============================] - 177s 355ms/step - loss: 0.0095 - acc: 0.9967 - val_loss: 0.0078 - val_acc: 0.9975\n",
      "Epoch 13/20\n",
      "500/500 [==============================] - 176s 353ms/step - loss: 0.0073 - acc: 0.9975 - val_loss: 0.0106 - val_acc: 0.9975\n",
      "Epoch 14/20\n",
      "500/500 [==============================] - 175s 349ms/step - loss: 0.0073 - acc: 0.9974 - val_loss: 0.0148 - val_acc: 0.9962\n",
      "Epoch 15/20\n",
      "500/500 [==============================] - 175s 350ms/step - loss: 0.0057 - acc: 0.9981 - val_loss: 0.0186 - val_acc: 0.9962\n",
      "Epoch 16/20\n",
      "500/500 [==============================] - 177s 354ms/step - loss: 0.0049 - acc: 0.9984 - val_loss: 0.0610 - val_acc: 0.9925\n",
      "Epoch 17/20\n",
      "500/500 [==============================] - 179s 358ms/step - loss: 0.0052 - acc: 0.9981 - val_loss: 0.0182 - val_acc: 0.9975\n",
      "Epoch 18/20\n",
      "500/500 [==============================] - 178s 356ms/step - loss: 0.0054 - acc: 0.9988 - val_loss: 0.0090 - val_acc: 0.9962\n",
      "Epoch 19/20\n",
      "500/500 [==============================] - 164s 328ms/step - loss: 0.0058 - acc: 0.9980 - val_loss: 0.0230 - val_acc: 0.9962\n",
      "Epoch 20/20\n",
      "500/500 [==============================] - 161s 323ms/step - loss: 0.0034 - acc: 0.9986 - val_loss: 0.0137 - val_acc: 0.9975\n"
     ]
    }
   ],
   "source": [
    "history = model.fit_generator(\n",
    "      train_generator,\n",
    "      steps_per_epoch=500,\n",
    "      epochs=20,\n",
    "      validation_data=validation_generator,\n",
    "      validation_steps=40)"
   ]
  },
  {
   "cell_type": "code",
   "execution_count": 10,
   "id": "ae0b2a23",
   "metadata": {},
   "outputs": [],
   "source": [
    "model.save(\"model_cnn_project_P1.h5\")"
   ]
  },
  {
   "cell_type": "code",
   "execution_count": 11,
   "id": "beb81bcd",
   "metadata": {},
   "outputs": [],
   "source": [
    "from tensorflow.keras import backend as K \n",
    "\n",
    "K.clear_session()\n",
    "del model"
   ]
  },
  {
   "cell_type": "code",
   "execution_count": 12,
   "id": "9c5951a8",
   "metadata": {},
   "outputs": [
    {
     "name": "stdout",
     "output_type": "stream",
     "text": [
      "Found 10000 images belonging to 2 classes.\n",
      "Found 800 images belonging to 2 classes.\n"
     ]
    }
   ],
   "source": [
    "train_datagen = ImageDataGenerator(\n",
    "    rescale=1./255,\n",
    "    rotation_range=40,\n",
    "    width_shift_range=0.2,\n",
    "    height_shift_range=0.2,\n",
    "    shear_range=0.2,\n",
    "    zoom_range=0.2,\n",
    "    horizontal_flip=True,)\n",
    "\n",
    "test_datagen = ImageDataGenerator(rescale=1./255)\n",
    "\n",
    "train_generator = train_datagen.flow_from_directory(\n",
    "        train_dir,\n",
    "        target_size=(128, 128),\n",
    "        batch_size=32,\n",
    "        class_mode='binary')\n",
    "\n",
    "validation_generator = test_datagen.flow_from_directory(\n",
    "        validation_dir,\n",
    "        target_size=(128, 128),\n",
    "        batch_size=32,\n",
    "        class_mode='binary')"
   ]
  },
  {
   "cell_type": "code",
   "execution_count": 13,
   "id": "9ef377be",
   "metadata": {},
   "outputs": [],
   "source": [
    "model = models.Sequential()\n",
    "model.add(layers.Conv2D(32, (3, 3), activation='relu',\n",
    "                        input_shape=(128, 128, 3)))\n",
    "model.add(layers.MaxPooling2D((2, 2)))\n",
    "model.add(layers.Conv2D(64, (3, 3), activation='relu'))\n",
    "model.add(layers.MaxPooling2D((2, 2)))\n",
    "model.add(layers.Conv2D(128, (3, 3), activation='relu'))\n",
    "model.add(layers.MaxPooling2D((2, 2)))\n",
    "model.add(layers.Conv2D(128, (3, 3), activation='relu'))\n",
    "model.add(layers.MaxPooling2D((2, 2)))\n",
    "model.add(layers.Flatten())\n",
    "model.add(layers.Dropout(0.5))\n",
    "model.add(layers.Dense(512, activation='relu'))\n",
    "model.add(layers.Dense(1, activation='sigmoid'))\n",
    "\n",
    "model.compile(loss='binary_crossentropy',\n",
    "              optimizer=optimizers.RMSprop(lr=1e-4),\n",
    "              metrics=['acc'])"
   ]
  },
  {
   "cell_type": "code",
   "execution_count": 14,
   "id": "df620ae7",
   "metadata": {},
   "outputs": [
    {
     "name": "stderr",
     "output_type": "stream",
     "text": [
      "<ipython-input-14-df095ebb6e07>:1: UserWarning: `Model.fit_generator` is deprecated and will be removed in a future version. Please use `Model.fit`, which supports generators.\n",
      "  history = model.fit_generator(\n"
     ]
    },
    {
     "name": "stdout",
     "output_type": "stream",
     "text": [
      "Epoch 1/10\n",
      "300/300 [==============================] - 194s 644ms/step - loss: 0.3022 - acc: 0.8752 - val_loss: 0.1376 - val_acc: 0.9513\n",
      "Epoch 2/10\n",
      "300/300 [==============================] - 166s 552ms/step - loss: 0.2025 - acc: 0.9217 - val_loss: 0.0973 - val_acc: 0.9725\n",
      "Epoch 3/10\n",
      "300/300 [==============================] - 168s 561ms/step - loss: 0.1698 - acc: 0.9355 - val_loss: 0.0817 - val_acc: 0.9787\n",
      "Epoch 4/10\n",
      "300/300 [==============================] - 168s 559ms/step - loss: 0.1615 - acc: 0.9404 - val_loss: 0.1049 - val_acc: 0.9650\n",
      "Epoch 5/10\n",
      "300/300 [==============================] - 185s 617ms/step - loss: 0.1595 - acc: 0.9407 - val_loss: 0.0709 - val_acc: 0.9787\n",
      "Epoch 6/10\n",
      "300/300 [==============================] - 178s 593ms/step - loss: 0.1471 - acc: 0.9456 - val_loss: 0.0660 - val_acc: 0.9812\n",
      "Epoch 7/10\n",
      "300/300 [==============================] - 168s 561ms/step - loss: 0.1461 - acc: 0.9480 - val_loss: 0.0618 - val_acc: 0.9800\n",
      "Epoch 8/10\n",
      "300/300 [==============================] - 168s 560ms/step - loss: 0.1343 - acc: 0.9520 - val_loss: 0.0655 - val_acc: 0.9800\n",
      "Epoch 9/10\n",
      "300/300 [==============================] - 172s 572ms/step - loss: 0.1358 - acc: 0.9512 - val_loss: 0.0519 - val_acc: 0.9862\n",
      "Epoch 10/10\n",
      "300/300 [==============================] - 177s 589ms/step - loss: 0.1202 - acc: 0.9567 - val_loss: 0.0472 - val_acc: 0.9850\n"
     ]
    }
   ],
   "source": [
    "history = model.fit_generator(\n",
    "      train_generator,\n",
    "      steps_per_epoch=300,\n",
    "      epochs=10,\n",
    "      validation_data=validation_generator,\n",
    "      validation_steps=25)"
   ]
  },
  {
   "cell_type": "code",
   "execution_count": null,
   "id": "d6a8cc67",
   "metadata": {},
   "outputs": [],
   "source": []
  },
  {
   "cell_type": "code",
   "execution_count": 15,
   "id": "27d809bb",
   "metadata": {},
   "outputs": [
    {
     "name": "stdout",
     "output_type": "stream",
     "text": [
      "Downloading data from https://storage.googleapis.com/tensorflow/keras-applications/vgg19/vgg19_weights_tf_dim_ordering_tf_kernels_notop.h5\n",
      "80142336/80134624 [==============================] - 8s 0us/step\n",
      "80150528/80134624 [==============================] - 8s 0us/step\n"
     ]
    }
   ],
   "source": [
    "from tensorflow.keras.applications import VGG19\n",
    "\n",
    "conv_base = VGG19(weights='imagenet',\n",
    "                  include_top=False,\n",
    "                  input_shape=(128, 128, 3))"
   ]
  },
  {
   "cell_type": "code",
   "execution_count": 16,
   "id": "edd60c42",
   "metadata": {},
   "outputs": [],
   "source": [
    "from tensorflow.keras import models\n",
    "from tensorflow.keras import layers\n",
    "\n",
    "model = models.Sequential()\n",
    "model.add(conv_base)\n",
    "model.add(layers.Flatten())\n",
    "model.add(layers.Dense(256, activation='relu'))\n",
    "model.add(layers.Dense(1, activation='sigmoid'))"
   ]
  },
  {
   "cell_type": "code",
   "execution_count": 17,
   "id": "a79e53cd",
   "metadata": {},
   "outputs": [],
   "source": [
    "from tensorflow.keras import optimizers\n",
    "\n",
    "model.compile(loss='binary_crossentropy',\n",
    "              optimizer=optimizers.RMSprop(lr=2e-5),\n",
    "              metrics=['acc'])"
   ]
  },
  {
   "cell_type": "code",
   "execution_count": 18,
   "id": "fb65038f",
   "metadata": {},
   "outputs": [],
   "source": [
    "checkpoint_cb = keras.callbacks.ModelCheckpoint(\"CNN_Final_Project_Model-{epoch:02d}.h5\")"
   ]
  },
  {
   "cell_type": "code",
   "execution_count": null,
   "id": "55294323",
   "metadata": {},
   "outputs": [
    {
     "name": "stderr",
     "output_type": "stream",
     "text": [
      "<ipython-input-19-9a37dc505b57>:1: UserWarning: `Model.fit_generator` is deprecated and will be removed in a future version. Please use `Model.fit`, which supports generators.\n",
      "  history = model.fit_generator(\n"
     ]
    },
    {
     "name": "stdout",
     "output_type": "stream",
     "text": [
      "Epoch 1/10\n",
      "300/300 [==============================] - 2967s 10s/step - loss: 0.0823 - acc: 0.9696 - val_loss: 0.0013 - val_acc: 1.0000\n",
      "Epoch 2/10\n",
      "300/300 [==============================] - 2926s 10s/step - loss: 0.0286 - acc: 0.9902 - val_loss: 0.0081 - val_acc: 0.9962\n",
      "Epoch 3/10\n",
      " 13/300 [>.............................] - ETA: 46:09 - loss: 0.0154 - acc: 0.9928"
     ]
    }
   ],
   "source": [
    "history = model.fit_generator(\n",
    "      train_generator,\n",
    "      steps_per_epoch=300,\n",
    "      epochs=10,\n",
    "      validation_data=validation_generator,\n",
    "      validation_steps=25,\n",
    "      callbacks=[checkpoint_cb])"
   ]
  },
  {
   "cell_type": "code",
   "execution_count": null,
   "id": "beac965b",
   "metadata": {},
   "outputs": [],
   "source": [
    "test_generator = test_datagen.flow_from_directory(\n",
    "        test_dir,\n",
    "        target_size=(128, 128),\n",
    "        batch_size=32,\n",
    "        class_mode='binary')"
   ]
  },
  {
   "cell_type": "code",
   "execution_count": null,
   "id": "6caf16e2",
   "metadata": {},
   "outputs": [],
   "source": [
    "model.evaluate_generator(test_generator, steps=31)"
   ]
  },
  {
   "cell_type": "code",
   "execution_count": null,
   "id": "509970eb",
   "metadata": {},
   "outputs": [],
   "source": []
  },
  {
   "cell_type": "code",
   "execution_count": null,
   "id": "a05fe7dd",
   "metadata": {},
   "outputs": [],
   "source": []
  }
 ],
 "metadata": {
  "kernelspec": {
   "display_name": "Python 3",
   "language": "python",
   "name": "python3"
  },
  "language_info": {
   "codemirror_mode": {
    "name": "ipython",
    "version": 3
   },
   "file_extension": ".py",
   "mimetype": "text/x-python",
   "name": "python",
   "nbconvert_exporter": "python",
   "pygments_lexer": "ipython3",
   "version": "3.8.8"
  }
 },
 "nbformat": 4,
 "nbformat_minor": 5
}
